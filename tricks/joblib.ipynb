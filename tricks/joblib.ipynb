{
 "cells": [
  {
   "cell_type": "markdown",
   "id": "38252e76-7774-48d2-a8c6-af8a402a0c22",
   "metadata": {},
   "source": [
    "## Joblib to speedup processes"
   ]
  },
  {
   "cell_type": "markdown",
   "id": "786f1acc-18c8-4147-8a8d-1472e8846a06",
   "metadata": {},
   "source": [
    "https://joblib.readthedocs.io/en/latest/"
   ]
  },
  {
   "cell_type": "code",
   "execution_count": 4,
   "id": "0b6aee6e-c2d7-4f27-b66d-1f64822d4624",
   "metadata": {},
   "outputs": [],
   "source": [
    "from joblib import Parallel, delayed\n",
    "import pandas as pd\n",
    "import joblib\n",
    "from tqdm import tqdm"
   ]
  },
  {
   "cell_type": "code",
   "execution_count": null,
   "id": "963247ba-1c9c-4f95-920c-45d4722f29cd",
   "metadata": {},
   "outputs": [],
   "source": []
  }
 ],
 "metadata": {
  "kernelspec": {
   "display_name": "Python 3",
   "language": "python",
   "name": "python3"
  },
  "language_info": {
   "codemirror_mode": {
    "name": "ipython",
    "version": 3
   },
   "file_extension": ".py",
   "mimetype": "text/x-python",
   "name": "python",
   "nbconvert_exporter": "python",
   "pygments_lexer": "ipython3",
   "version": "3.7.10"
  }
 },
 "nbformat": 4,
 "nbformat_minor": 5
}
