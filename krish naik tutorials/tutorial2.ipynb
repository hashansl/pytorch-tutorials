{
 "cells": [
  {
   "cell_type": "markdown",
   "id": "f98a7e83-7967-4c7d-932c-9d90ee718c83",
   "metadata": {},
   "source": [
    "# Pytorch Tutorial"
   ]
  },
  {
   "cell_type": "markdown",
   "id": "6a4430f6-a73f-4232-ac51-1048a0c01582",
   "metadata": {},
   "source": [
    "### Tensors Basics\n"
   ]
  },
  {
   "cell_type": "markdown",
   "id": "dde6b6f9-0527-4b4a-8432-326e8e7e96ba",
   "metadata": {},
   "source": [
    "A tensor is a generalization of vectors and matrices and is easily understood as a multidimensional array.It is a term and set of techniques known in machine learning in the training and operation of deep learning models can be described in terms of tensors. In many cases tensors are used as a replacement for NumPy to use the power of GPUs.\n",
    "\n",
    "Tensors are a type of data structure used in linear algebra, and like vectors and matrices, you can calculate arithmetic operations with tensors."
   ]
  },
  {
   "cell_type": "code",
   "execution_count": 1,
   "id": "62a357e6-a3d8-429f-9cc4-8554fe8d0341",
   "metadata": {},
   "outputs": [],
   "source": [
    "import torch"
   ]
  },
  {
   "cell_type": "code",
   "execution_count": 2,
   "id": "5e86d1c8-1c71-4295-b693-4bb5a5505f7d",
   "metadata": {},
   "outputs": [
    {
     "data": {
      "text/plain": [
       "'1.8.1+cu102'"
      ]
     },
     "execution_count": 2,
     "metadata": {},
     "output_type": "execute_result"
    }
   ],
   "source": [
    "torch.__version__"
   ]
  },
  {
   "cell_type": "code",
   "execution_count": 3,
   "id": "b852d53b-028f-49d7-9046-7e20e742219d",
   "metadata": {},
   "outputs": [
    {
     "data": {
      "text/plain": [
       "'GeForce 840M'"
      ]
     },
     "execution_count": 3,
     "metadata": {},
     "output_type": "execute_result"
    }
   ],
   "source": [
    "torch.cuda.get_device_name()"
   ]
  },
  {
   "cell_type": "code",
   "execution_count": 4,
   "id": "c26700a5-9ff6-475c-a837-ff628c4615a1",
   "metadata": {},
   "outputs": [],
   "source": [
    "import numpy as np"
   ]
  },
  {
   "cell_type": "code",
   "execution_count": 5,
   "id": "d474c9f7-78f7-4bea-b1da-78f93c2bbcc1",
   "metadata": {},
   "outputs": [],
   "source": [
    "lst = [3,4,5,6]\n",
    "arr = np.array(lst)"
   ]
  },
  {
   "cell_type": "code",
   "execution_count": 6,
   "id": "3610f0fe-02c4-44d1-9bf2-1bc63db89304",
   "metadata": {},
   "outputs": [
    {
     "data": {
      "text/plain": [
       "dtype('int64')"
      ]
     },
     "execution_count": 6,
     "metadata": {},
     "output_type": "execute_result"
    }
   ],
   "source": [
    "arr.dtype"
   ]
  },
  {
   "cell_type": "code",
   "execution_count": 7,
   "id": "b6d72e72-e593-47f4-9b6f-246c15850b2d",
   "metadata": {},
   "outputs": [
    {
     "data": {
      "text/plain": [
       "numpy.ndarray"
      ]
     },
     "execution_count": 7,
     "metadata": {},
     "output_type": "execute_result"
    }
   ],
   "source": [
    "type(arr)"
   ]
  },
  {
   "cell_type": "markdown",
   "id": "3e7a633f-038a-4c3e-8a2c-436d870a8a0c",
   "metadata": {},
   "source": [
    "## Convert Numpy to Pytorch Tensors"
   ]
  },
  {
   "cell_type": "markdown",
   "id": "d9a80a7e-8708-4cd1-bf70-ca624ee7bc11",
   "metadata": {},
   "source": [
    "### using SHIFT+ TAB you can see the function definition"
   ]
  },
  {
   "cell_type": "code",
   "execution_count": 9,
   "id": "b3afe444-b0aa-4fd0-a339-568cbc231519",
   "metadata": {},
   "outputs": [
    {
     "data": {
      "text/plain": [
       "tensor([3, 4, 5, 6])"
      ]
     },
     "execution_count": 9,
     "metadata": {},
     "output_type": "execute_result"
    }
   ],
   "source": [
    "tensors = torch.from_numpy(arr)\n",
    "tensors"
   ]
  },
  {
   "cell_type": "code",
   "execution_count": 14,
   "id": "3f80c55f-a2a5-4e38-ae79-419403ca2e1c",
   "metadata": {},
   "outputs": [
    {
     "data": {
      "text/plain": [
       "tensor([3, 4])"
      ]
     },
     "execution_count": 14,
     "metadata": {},
     "output_type": "execute_result"
    }
   ],
   "source": [
    "# Indexing simillar to numpy\n",
    "#tensors[0]\n",
    "tensors[:2]"
   ]
  },
  {
   "cell_type": "code",
   "execution_count": 15,
   "id": "daf59cac-1b4c-4fca-992d-05f79197c35b",
   "metadata": {},
   "outputs": [],
   "source": [
    "#### Disadvantage of from numpy. The array and the tensors uses thesame memory location\n",
    "tensors[3]=100"
   ]
  },
  {
   "cell_type": "code",
   "execution_count": 17,
   "id": "809e8bb8-f95e-4e86-bd00-484a05fc3820",
   "metadata": {},
   "outputs": [
    {
     "data": {
      "text/plain": [
       "tensor([  3,   4,   5, 100])"
      ]
     },
     "execution_count": 17,
     "metadata": {},
     "output_type": "execute_result"
    }
   ],
   "source": [
    "tensors"
   ]
  },
  {
   "cell_type": "code",
   "execution_count": 18,
   "id": "04b91ff2-d2a3-4a48-b476-321527122a7f",
   "metadata": {},
   "outputs": [
    {
     "data": {
      "text/plain": [
       "array([  3,   4,   5, 100])"
      ]
     },
     "execution_count": 18,
     "metadata": {},
     "output_type": "execute_result"
    }
   ],
   "source": [
    "arr"
   ]
  },
  {
   "cell_type": "code",
   "execution_count": 19,
   "id": "767536e1-9237-4dbc-9164-b8d1e8d4e30a",
   "metadata": {},
   "outputs": [
    {
     "data": {
      "text/plain": [
       "tensor([  3,   4,   5, 100])"
      ]
     },
     "execution_count": 19,
     "metadata": {},
     "output_type": "execute_result"
    }
   ],
   "source": [
    "### prevent this by using torch.tensor\n",
    "\n",
    "tensor_arr = torch.tensor(arr)\n",
    "tensor_arr"
   ]
  },
  {
   "cell_type": "code",
   "execution_count": 20,
   "id": "ab6d81de-1ed6-4b1f-a395-62f20a2391a5",
   "metadata": {},
   "outputs": [],
   "source": [
    "tensor_arr[3]=500"
   ]
  },
  {
   "cell_type": "code",
   "execution_count": 23,
   "id": "d62a0edc-ae82-43ad-bbb0-85415e090da1",
   "metadata": {},
   "outputs": [
    {
     "name": "stdout",
     "output_type": "stream",
     "text": [
      "tensor([  3,   4,   5, 500])\n",
      "[  3   4   5 100]\n"
     ]
    }
   ],
   "source": [
    "print(tensor_arr)\n",
    "print(arr)"
   ]
  },
  {
   "cell_type": "code",
   "execution_count": 24,
   "id": "5d4dd6e8-3681-4cc4-aa43-605db57cd2a7",
   "metadata": {},
   "outputs": [
    {
     "data": {
      "text/plain": [
       "tensor([[0., 0., 0.],\n",
       "        [0., 0., 0.]], dtype=torch.float64)"
      ]
     },
     "execution_count": 24,
     "metadata": {},
     "output_type": "execute_result"
    }
   ],
   "source": [
    "#Zeros and ones\n",
    "torch.zeros(2,3,dtype=torch.float64)"
   ]
  },
  {
   "cell_type": "code",
   "execution_count": 26,
   "id": "d8c703d9-43bc-449d-84a7-1ed582057461",
   "metadata": {},
   "outputs": [
    {
     "data": {
      "text/plain": [
       "tensor([[1., 1., 1.],\n",
       "        [1., 1., 1.]], dtype=torch.float64)"
      ]
     },
     "execution_count": 26,
     "metadata": {},
     "output_type": "execute_result"
    }
   ],
   "source": [
    "torch.ones(2,3,dtype=torch.float64)"
   ]
  },
  {
   "cell_type": "code",
   "execution_count": 34,
   "id": "257d0e55-1767-402c-bd55-259f183deb13",
   "metadata": {},
   "outputs": [
    {
     "data": {
      "text/plain": [
       "tensor([ 1,  4,  7, 10, 13])"
      ]
     },
     "execution_count": 34,
     "metadata": {},
     "output_type": "execute_result"
    }
   ],
   "source": [
    "a = torch.tensor(np.arange(0,15).reshape(5,3))\n",
    "a[:,1]"
   ]
  },
  {
   "cell_type": "markdown",
   "id": "2e0ded46-50ee-4b46-91e9-aa27d2d08efd",
   "metadata": {},
   "source": [
    "## Arithmetic Operations"
   ]
  },
  {
   "cell_type": "code",
   "execution_count": 37,
   "id": "06eefecc-3d91-4e30-8fc4-ffea28eba43b",
   "metadata": {},
   "outputs": [
    {
     "name": "stdout",
     "output_type": "stream",
     "text": [
      "tensor([ 7.,  9., 11.], dtype=torch.float64)\n"
     ]
    }
   ],
   "source": [
    "a = torch.tensor([3,4,5],dtype=torch.float64)\n",
    "b = torch.tensor([4,5,6],dtype=torch.float64)\n",
    "print(a+b)"
   ]
  },
  {
   "cell_type": "code",
   "execution_count": 38,
   "id": "7b3f2cfb-1731-4ed9-9b22-ae106e23a2ca",
   "metadata": {},
   "outputs": [
    {
     "data": {
      "text/plain": [
       "tensor([ 7.,  9., 11.], dtype=torch.float64)"
      ]
     },
     "execution_count": 38,
     "metadata": {},
     "output_type": "execute_result"
    }
   ],
   "source": [
    "torch.add(a,b)"
   ]
  },
  {
   "cell_type": "code",
   "execution_count": 39,
   "id": "7f5abd0c-d09b-4977-883e-0982fe609cd1",
   "metadata": {},
   "outputs": [],
   "source": [
    "c = torch.zeros(3) #same shape as output in below calculation."
   ]
  },
  {
   "cell_type": "code",
   "execution_count": 40,
   "id": "ad29a719-20d2-4217-b831-34d75cd2cc7d",
   "metadata": {},
   "outputs": [
    {
     "data": {
      "text/plain": [
       "tensor([ 7.,  9., 11.])"
      ]
     },
     "execution_count": 40,
     "metadata": {},
     "output_type": "execute_result"
    }
   ],
   "source": [
    "torch.add(a,b,out=c) #will be stored in c"
   ]
  },
  {
   "cell_type": "code",
   "execution_count": 41,
   "id": "b18396c9-0b14-4ac7-91c7-11a1d68be324",
   "metadata": {},
   "outputs": [
    {
     "data": {
      "text/plain": [
       "tensor([ 7.,  9., 11.])"
      ]
     },
     "execution_count": 41,
     "metadata": {},
     "output_type": "execute_result"
    }
   ],
   "source": [
    "c"
   ]
  },
  {
   "cell_type": "code",
   "execution_count": 42,
   "id": "0035b3dc-3e0e-4348-a0f5-9c9e6fe498b1",
   "metadata": {},
   "outputs": [],
   "source": [
    "#### Some more operations\n",
    "a = torch.tensor([3,4,5],dtype=torch.float64)\n",
    "b = torch.tensor([4,5,6],dtype=torch.float64)"
   ]
  },
  {
   "cell_type": "code",
   "execution_count": 43,
   "id": "d942bdc1-e2d7-4e29-a731-914470c883ac",
   "metadata": {},
   "outputs": [
    {
     "data": {
      "text/plain": [
       "tensor(27., dtype=torch.float64)"
      ]
     },
     "execution_count": 43,
     "metadata": {},
     "output_type": "execute_result"
    }
   ],
   "source": [
    "### tensor [7,9,11]\n",
    "torch.add(a,b).sum()"
   ]
  },
  {
   "cell_type": "markdown",
   "id": "3778a72e-0826-403d-a068-5bacef53ac5c",
   "metadata": {},
   "source": [
    "## Dot Products and Multi Operations"
   ]
  },
  {
   "cell_type": "code",
   "execution_count": 44,
   "id": "6d181725-94d7-4a7f-abca-68d3c67f6077",
   "metadata": {},
   "outputs": [],
   "source": [
    "x = torch.tensor([3,4,5],dtype=torch.float)\n",
    "y = torch.tensor([4,5,6],dtype=torch.float)"
   ]
  },
  {
   "cell_type": "code",
   "execution_count": 45,
   "id": "3e3874ec-9797-476b-bdba-481db323fe63",
   "metadata": {},
   "outputs": [
    {
     "data": {
      "text/plain": [
       "tensor([12., 20., 30.])"
      ]
     },
     "execution_count": 45,
     "metadata": {},
     "output_type": "execute_result"
    }
   ],
   "source": [
    "x.mul(y)"
   ]
  },
  {
   "cell_type": "code",
   "execution_count": 46,
   "id": "b063c312-a354-440f-aaa6-e45edb85fc42",
   "metadata": {},
   "outputs": [],
   "source": [
    "### 3*4+5*4+6*5"
   ]
  },
  {
   "cell_type": "code",
   "execution_count": 47,
   "id": "fb7183ac-92c7-4ede-bb4f-321692682f1d",
   "metadata": {},
   "outputs": [
    {
     "data": {
      "text/plain": [
       "tensor(62.)"
      ]
     },
     "execution_count": 47,
     "metadata": {},
     "output_type": "execute_result"
    }
   ],
   "source": [
    "x.dot(y)"
   ]
  },
  {
   "cell_type": "markdown",
   "id": "2d68d243-ff62-4e37-b27c-8cc771f0f845",
   "metadata": {},
   "source": [
    "##### Matrix Multiplication"
   ]
  },
  {
   "cell_type": "code",
   "execution_count": 48,
   "id": "12ed861c-dd7c-4e50-a59d-871833663f4d",
   "metadata": {},
   "outputs": [],
   "source": [
    "x = torch.tensor([[1,4,2],[1,5,5]],dtype=torch.float)\n",
    "y = torch.tensor([[5,7],[8,6],[9,11]],dtype=torch.float)"
   ]
  },
  {
   "cell_type": "code",
   "execution_count": 49,
   "id": "21c0bcfd-dedc-4a8d-a9c5-2937d1b2af8b",
   "metadata": {},
   "outputs": [
    {
     "data": {
      "text/plain": [
       "tensor([[55., 53.],\n",
       "        [90., 92.]])"
      ]
     },
     "execution_count": 49,
     "metadata": {},
     "output_type": "execute_result"
    }
   ],
   "source": [
    "torch.matmul(x,y)"
   ]
  },
  {
   "cell_type": "code",
   "execution_count": 50,
   "id": "a99fc18f-e327-48ed-af9f-6e50d34e8ba6",
   "metadata": {},
   "outputs": [
    {
     "data": {
      "text/plain": [
       "tensor([[55., 53.],\n",
       "        [90., 92.]])"
      ]
     },
     "execution_count": 50,
     "metadata": {},
     "output_type": "execute_result"
    }
   ],
   "source": [
    "torch.mm(x,y)"
   ]
  },
  {
   "cell_type": "code",
   "execution_count": 51,
   "id": "78ea823a-00ad-4b34-910c-285728225d18",
   "metadata": {},
   "outputs": [
    {
     "data": {
      "text/plain": [
       "tensor([[55., 53.],\n",
       "        [90., 92.]])"
      ]
     },
     "execution_count": 51,
     "metadata": {},
     "output_type": "execute_result"
    }
   ],
   "source": [
    "x@y"
   ]
  },
  {
   "cell_type": "code",
   "execution_count": null,
   "id": "18c25071-5f39-4df4-9736-72cb09391982",
   "metadata": {},
   "outputs": [],
   "source": []
  }
 ],
 "metadata": {
  "kernelspec": {
   "display_name": "Python 3",
   "language": "python",
   "name": "python3"
  },
  "language_info": {
   "codemirror_mode": {
    "name": "ipython",
    "version": 3
   },
   "file_extension": ".py",
   "mimetype": "text/x-python",
   "name": "python",
   "nbconvert_exporter": "python",
   "pygments_lexer": "ipython3",
   "version": "3.7.10"
  }
 },
 "nbformat": 4,
 "nbformat_minor": 5
}
