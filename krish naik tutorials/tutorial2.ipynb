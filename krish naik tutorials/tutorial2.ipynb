{
 "cells": [
  {
   "cell_type": "markdown",
   "id": "f98a7e83-7967-4c7d-932c-9d90ee718c83",
   "metadata": {},
   "source": [
    "# Pytorch Tutorial"
   ]
  },
  {
   "cell_type": "markdown",
   "id": "6a4430f6-a73f-4232-ac51-1048a0c01582",
   "metadata": {},
   "source": [
    "### Tensors Basics\n"
   ]
  },
  {
   "cell_type": "markdown",
   "id": "dde6b6f9-0527-4b4a-8432-326e8e7e96ba",
   "metadata": {},
   "source": [
    "A tensor is a generalization of vectors and matrices and is easily understood as a multidimensional array.It is a term and set of techniques known in machine learning in the training and operation of deep learning models can be described in terms of tensors. In many cases tensors are used as a replacement for NumPy to use the power of GPUs.\n",
    "\n",
    "Tensors are a type of data structure used in linear algebra, and like vectors and matrices, you can calculate arithmetic operations with tensors."
   ]
  },
  {
   "cell_type": "code",
   "execution_count": 1,
   "id": "62a357e6-a3d8-429f-9cc4-8554fe8d0341",
   "metadata": {},
   "outputs": [],
   "source": [
    "import torch"
   ]
  },
  {
   "cell_type": "code",
   "execution_count": 2,
   "id": "5e86d1c8-1c71-4295-b693-4bb5a5505f7d",
   "metadata": {},
   "outputs": [
    {
     "data": {
      "text/plain": [
       "'1.8.1+cu102'"
      ]
     },
     "execution_count": 2,
     "metadata": {},
     "output_type": "execute_result"
    }
   ],
   "source": [
    "torch.__version__"
   ]
  },
  {
   "cell_type": "code",
   "execution_count": 3,
   "id": "b852d53b-028f-49d7-9046-7e20e742219d",
   "metadata": {},
   "outputs": [
    {
     "data": {
      "text/plain": [
       "'GeForce 840M'"
      ]
     },
     "execution_count": 3,
     "metadata": {},
     "output_type": "execute_result"
    }
   ],
   "source": [
    "torch.cuda.get_device_name()"
   ]
  },
  {
   "cell_type": "code",
   "execution_count": 4,
   "id": "c26700a5-9ff6-475c-a837-ff628c4615a1",
   "metadata": {},
   "outputs": [],
   "source": [
    "import numpy as np"
   ]
  },
  {
   "cell_type": "code",
   "execution_count": 5,
   "id": "d474c9f7-78f7-4bea-b1da-78f93c2bbcc1",
   "metadata": {},
   "outputs": [],
   "source": [
    "lst = [3,4,5,6]\n",
    "arr = np.array(lst)"
   ]
  },
  {
   "cell_type": "code",
   "execution_count": 6,
   "id": "3610f0fe-02c4-44d1-9bf2-1bc63db89304",
   "metadata": {},
   "outputs": [
    {
     "data": {
      "text/plain": [
       "dtype('int64')"
      ]
     },
     "execution_count": 6,
     "metadata": {},
     "output_type": "execute_result"
    }
   ],
   "source": [
    "arr.dtype"
   ]
  },
  {
   "cell_type": "code",
   "execution_count": 7,
   "id": "b6d72e72-e593-47f4-9b6f-246c15850b2d",
   "metadata": {},
   "outputs": [
    {
     "data": {
      "text/plain": [
       "numpy.ndarray"
      ]
     },
     "execution_count": 7,
     "metadata": {},
     "output_type": "execute_result"
    }
   ],
   "source": [
    "type(arr)"
   ]
  },
  {
   "cell_type": "markdown",
   "id": "3e7a633f-038a-4c3e-8a2c-436d870a8a0c",
   "metadata": {},
   "source": [
    "## Convert Numpy to Pytorch Tensors"
   ]
  },
  {
   "cell_type": "markdown",
   "id": "d9a80a7e-8708-4cd1-bf70-ca624ee7bc11",
   "metadata": {},
   "source": [
    "### using SHIFT+ TAB you can see the function definition"
   ]
  },
  {
   "cell_type": "code",
   "execution_count": 9,
   "id": "b3afe444-b0aa-4fd0-a339-568cbc231519",
   "metadata": {},
   "outputs": [
    {
     "data": {
      "text/plain": [
       "tensor([3, 4, 5, 6])"
      ]
     },
     "execution_count": 9,
     "metadata": {},
     "output_type": "execute_result"
    }
   ],
   "source": [
    "tensors = torch.from_numpy(arr)\n",
    "tensors"
   ]
  },
  {
   "cell_type": "code",
   "execution_count": 14,
   "id": "3f80c55f-a2a5-4e38-ae79-419403ca2e1c",
   "metadata": {},
   "outputs": [
    {
     "data": {
      "text/plain": [
       "tensor([3, 4])"
      ]
     },
     "execution_count": 14,
     "metadata": {},
     "output_type": "execute_result"
    }
   ],
   "source": [
    "# Indexing simillar to numpy\n",
    "#tensors[0]\n",
    "tensors[:2]"
   ]
  },
  {
   "cell_type": "code",
   "execution_count": null,
   "id": "daf59cac-1b4c-4fca-992d-05f79197c35b",
   "metadata": {},
   "outputs": [],
   "source": [
    "#### Dis"
   ]
  }
 ],
 "metadata": {
  "kernelspec": {
   "display_name": "Python 3",
   "language": "python",
   "name": "python3"
  },
  "language_info": {
   "codemirror_mode": {
    "name": "ipython",
    "version": 3
   },
   "file_extension": ".py",
   "mimetype": "text/x-python",
   "name": "python",
   "nbconvert_exporter": "python",
   "pygments_lexer": "ipython3",
   "version": "3.7.10"
  }
 },
 "nbformat": 4,
 "nbformat_minor": 5
}
