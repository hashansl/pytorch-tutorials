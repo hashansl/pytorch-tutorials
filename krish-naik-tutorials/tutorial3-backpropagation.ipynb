{
 "cells": [
  {
   "cell_type": "markdown",
   "id": "a9e0ce02-ba4e-4f3d-87f0-8515a26d075c",
   "metadata": {},
   "source": [
    "## Backpropagation using Pytorch"
   ]
  },
  {
   "cell_type": "markdown",
   "id": "b687ecb0-74c9-424b-ac38-332f03a9bbd0",
   "metadata": {},
   "source": [
    "https://towardsdatascience.com/pytorch-autograd-understanding-the-heart-of-pytorchs-magic-2686cd94ec95"
   ]
  },
  {
   "cell_type": "markdown",
   "id": "a1fe61b0-a03f-441a-bda1-61b24c980483",
   "metadata": {},
   "source": [
    "Gradient(අනුක්‍රමණය): https://www.youtube.com/watch?v=tIpKfDc295M\n",
    "<br> "
   ]
  },
  {
   "cell_type": "markdown",
   "id": "ff9e2643-b024-42a8-8cf5-2914efdcf0f6",
   "metadata": {},
   "source": [
    "Derivative - ව්යුත්පන්න"
   ]
  },
  {
   "cell_type": "markdown",
   "id": "308131c4-8efe-49a3-9ee9-ecc98e577d01",
   "metadata": {},
   "source": [
    "<b>Tensors:</b> In simple words, its just an n-dimensional array in PyTorch. Tensors support some additional enhancements which make them unique: Apart from CPU, they can be loaded or the GPU for faster computations. On setting <b> .requires_grad = True </b>they start forming a backward graph that tracks every operation applied on them to calculate the gradients using something called a dynamic computation graph (DCG) \n"
   ]
  },
  {
   "cell_type": "markdown",
   "id": "783aaa78-7123-445a-83c5-56ed56ad6f26",
   "metadata": {},
   "source": [
    "<b>torch.Tensor</b> is capable of tracking history and behaves like the old Variable"
   ]
  },
  {
   "cell_type": "markdown",
   "id": "3d0b499e-692d-483f-a17b-94cad1087e02",
   "metadata": {},
   "source": [
    "<b>Note: </b>By PyTorch’s design, gradients can only be calculated for floating point tensors which is why I’ve created a float type numpy array before making it a gradient enabled PyTorch tensor"
   ]
  },
  {
   "cell_type": "markdown",
   "id": "bda7d3ad-2a84-4689-b99c-a504ac1b16c4",
   "metadata": {},
   "source": [
    "<b>requires_grad:</b> This member, if true starts tracking all the operation history and forms a backward graph for gradient calculation. For an arbitrary tensor a It can be manipulated in-place as follows: a.requires_grad_(True)."
   ]
  },
  {
   "cell_type": "markdown",
   "id": "ebe13ea4-a13f-4692-9983-98a1b5aadd0a",
   "metadata": {},
   "source": [
    "<b>grad:</b> grad holds the value of gradient. If requires_grad is False it will hold a None value. Even if requires_grad is True, it will hold a None value unless .backward() function is called from some other node. For example, if you call out.backward() for some variable out that involved x in its calculations then x.grad will hold ∂out/∂x."
   ]
  },
  {
   "cell_type": "markdown",
   "id": "6492c510-bcc4-46c2-81c8-9222a7ed2c08",
   "metadata": {},
   "source": [
    "### Backward() function\n",
    "\n",
    "Backward is the function which actually calculates the gradient by passing it’s argument (1x1 unit tensor by default) through the backward graph all the way up to every leaf node traceable from the calling root tensor. The calculated gradients are then stored in .grad of every leaf node. Remember, the backward graph is already made dynamically during the forward pass. Backward function only calculates the gradient using the already made graph and stores them in leaf nodes."
   ]
  },
  {
   "cell_type": "code",
   "execution_count": null,
   "id": "8a162ff7-45d6-4ab9-8624-baa44d93a5ab",
   "metadata": {},
   "outputs": [],
   "source": []
  },
  {
   "cell_type": "code",
   "execution_count": null,
   "id": "16c44742-35ee-4147-8717-4cdbe2c6dfbb",
   "metadata": {},
   "outputs": [],
   "source": []
  },
  {
   "cell_type": "markdown",
   "id": "067cfd35-142d-48f3-8c2e-4f8f14bb5a15",
   "metadata": {},
   "source": [
    "y=X^2"
   ]
  },
  {
   "cell_type": "code",
   "execution_count": 1,
   "id": "216773c3-7e76-4f85-8e91-f5d3bff509e3",
   "metadata": {},
   "outputs": [],
   "source": [
    "import torch"
   ]
  },
  {
   "cell_type": "code",
   "execution_count": 2,
   "id": "9136a102-11b9-4d68-952d-e1c01c7cdaa8",
   "metadata": {},
   "outputs": [],
   "source": [
    "#requires_grad to calculate gradient\n",
    "x = torch.tensor(4.0,requires_grad=True)"
   ]
  },
  {
   "cell_type": "code",
   "execution_count": 3,
   "id": "030e03c3-6220-4ff9-b1bb-fd98ec5ff89e",
   "metadata": {},
   "outputs": [
    {
     "data": {
      "text/plain": [
       "tensor(4., requires_grad=True)"
      ]
     },
     "execution_count": 3,
     "metadata": {},
     "output_type": "execute_result"
    }
   ],
   "source": [
    "x"
   ]
  },
  {
   "cell_type": "code",
   "execution_count": 4,
   "id": "f86fe267-1d1e-4ef0-9de0-4a7a1796d5f3",
   "metadata": {},
   "outputs": [
    {
     "data": {
      "text/plain": [
       "tensor(16., grad_fn=<PowBackward0>)"
      ]
     },
     "execution_count": 4,
     "metadata": {},
     "output_type": "execute_result"
    }
   ],
   "source": [
    "y=x**2\n",
    "y"
   ]
  },
  {
   "cell_type": "code",
   "execution_count": 5,
   "id": "e9d2c7a3-4e55-48de-a468-733af28af9e5",
   "metadata": {},
   "outputs": [],
   "source": [
    "### Backpropagation y = 2*x\n",
    "y.backward()"
   ]
  },
  {
   "cell_type": "code",
   "execution_count": 6,
   "id": "97adccce-052a-408f-a6b3-cf359c9e675f",
   "metadata": {},
   "outputs": [
    {
     "name": "stdout",
     "output_type": "stream",
     "text": [
      "tensor(8.)\n"
     ]
    }
   ],
   "source": [
    "print(x.grad)"
   ]
  },
  {
   "cell_type": "code",
   "execution_count": 7,
   "id": "c1156d18-8b28-46fc-9717-dc3d1d51f033",
   "metadata": {},
   "outputs": [],
   "source": [
    "lst=[[2.,3.,1.],[4.,5.,3.],[7.,6.,4.]]\n",
    "torch_input = torch.tensor(lst,requires_grad=True)"
   ]
  },
  {
   "cell_type": "code",
   "execution_count": 8,
   "id": "262698ff-da8c-445e-a612-e616c0eb36a6",
   "metadata": {},
   "outputs": [
    {
     "data": {
      "text/plain": [
       "tensor([[2., 3., 1.],\n",
       "        [4., 5., 3.],\n",
       "        [7., 6., 4.]], requires_grad=True)"
      ]
     },
     "execution_count": 8,
     "metadata": {},
     "output_type": "execute_result"
    }
   ],
   "source": [
    "torch_input"
   ]
  },
  {
   "cell_type": "code",
   "execution_count": 9,
   "id": "b5623b6a-27fd-4f3b-9ddd-ff5351e95c79",
   "metadata": {},
   "outputs": [
    {
     "data": {
      "text/plain": [
       "16"
      ]
     },
     "execution_count": 9,
     "metadata": {},
     "output_type": "execute_result"
    }
   ],
   "source": [
    "3*2**2+2*2"
   ]
  },
  {
   "cell_type": "code",
   "execution_count": 10,
   "id": "2d70332e-dace-44b7-b127-dcc0cd30ac1b",
   "metadata": {},
   "outputs": [],
   "source": [
    "#y=x**3 + x**3\n",
    "#y =3x**2 +2x\n",
    "y = torch_input**3 +torch_input**2"
   ]
  },
  {
   "cell_type": "code",
   "execution_count": 11,
   "id": "0e6d8112-d5f5-4722-acf5-adf2408d5c0c",
   "metadata": {},
   "outputs": [
    {
     "data": {
      "text/plain": [
       "tensor([[ 12.,  36.,   2.],\n",
       "        [ 80., 150.,  36.],\n",
       "        [392., 252.,  80.]], grad_fn=<AddBackward0>)"
      ]
     },
     "execution_count": 11,
     "metadata": {},
     "output_type": "execute_result"
    }
   ],
   "source": [
    "y"
   ]
  },
  {
   "cell_type": "code",
   "execution_count": 12,
   "id": "fbe35716-4765-45f4-b0fa-8b5148bb3ee4",
   "metadata": {},
   "outputs": [],
   "source": [
    "z=y.sum()"
   ]
  },
  {
   "cell_type": "code",
   "execution_count": 13,
   "id": "c2e899e9-def7-4a67-a872-6e35e4a83cd7",
   "metadata": {},
   "outputs": [
    {
     "data": {
      "text/plain": [
       "tensor(1040., grad_fn=<SumBackward0>)"
      ]
     },
     "execution_count": 13,
     "metadata": {},
     "output_type": "execute_result"
    }
   ],
   "source": [
    "z"
   ]
  },
  {
   "cell_type": "code",
   "execution_count": 14,
   "id": "fa967caf-80fa-45f4-8c27-35b6a06e718e",
   "metadata": {},
   "outputs": [],
   "source": [
    "z.backward()"
   ]
  },
  {
   "cell_type": "code",
   "execution_count": 16,
   "id": "5c95466f-1a20-45d2-9277-eef71bcb6fe5",
   "metadata": {},
   "outputs": [
    {
     "data": {
      "text/plain": [
       "tensor([[ 16.,  33.,   5.],\n",
       "        [ 56.,  85.,  33.],\n",
       "        [161., 120.,  56.]])"
      ]
     },
     "execution_count": 16,
     "metadata": {},
     "output_type": "execute_result"
    }
   ],
   "source": [
    "torch_input.grad"
   ]
  },
  {
   "cell_type": "code",
   "execution_count": null,
   "id": "5e0df860-7bdc-45e2-863c-38a09674ed0f",
   "metadata": {},
   "outputs": [],
   "source": []
  }
 ],
 "metadata": {
  "kernelspec": {
   "display_name": "Python 3",
   "language": "python",
   "name": "python3"
  },
  "language_info": {
   "codemirror_mode": {
    "name": "ipython",
    "version": 3
   },
   "file_extension": ".py",
   "mimetype": "text/x-python",
   "name": "python",
   "nbconvert_exporter": "python",
   "pygments_lexer": "ipython3",
   "version": "3.7.10"
  }
 },
 "nbformat": 4,
 "nbformat_minor": 5
}
