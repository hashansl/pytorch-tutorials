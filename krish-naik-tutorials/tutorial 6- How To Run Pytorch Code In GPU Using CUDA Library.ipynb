{
 "cells": [
  {
   "cell_type": "code",
   "execution_count": 1,
   "id": "c2431433-6aa0-4c31-b9bd-b0eca61cacf8",
   "metadata": {},
   "outputs": [],
   "source": [
    "import torch"
   ]
  },
  {
   "cell_type": "code",
   "execution_count": 2,
   "id": "866b090c-07a6-49e7-9bfc-9ab705441e90",
   "metadata": {},
   "outputs": [
    {
     "data": {
      "text/plain": [
       "True"
      ]
     },
     "execution_count": 2,
     "metadata": {},
     "output_type": "execute_result"
    }
   ],
   "source": [
    "torch.cuda.is_available()"
   ]
  },
  {
   "cell_type": "code",
   "execution_count": 3,
   "id": "00d83f1f-e286-4b1d-9eb7-1f448f10851c",
   "metadata": {},
   "outputs": [
    {
     "data": {
      "text/plain": [
       "0"
      ]
     },
     "execution_count": 3,
     "metadata": {},
     "output_type": "execute_result"
    }
   ],
   "source": [
    "torch.cuda.current_device()"
   ]
  },
  {
   "cell_type": "code",
   "execution_count": 4,
   "id": "edf2828b-b406-4221-9085-44cff5517b18",
   "metadata": {},
   "outputs": [
    {
     "data": {
      "text/plain": [
       "'GeForce 840M'"
      ]
     },
     "execution_count": 4,
     "metadata": {},
     "output_type": "execute_result"
    }
   ],
   "source": [
    "torch.cuda.get_device_name(0)"
   ]
  },
  {
   "cell_type": "code",
   "execution_count": 5,
   "id": "49ef47e9-7d3d-4868-ae77-3e3d6fc682c5",
   "metadata": {},
   "outputs": [
    {
     "data": {
      "text/plain": [
       "0"
      ]
     },
     "execution_count": 5,
     "metadata": {},
     "output_type": "execute_result"
    }
   ],
   "source": [
    "torch.cuda.memory_reserved()"
   ]
  },
  {
   "cell_type": "code",
   "execution_count": 28,
   "id": "28533a3f-146c-4a75-970d-0b946e07fc29",
   "metadata": {},
   "outputs": [
    {
     "data": {
      "text/plain": [
       "37376"
      ]
     },
     "execution_count": 28,
     "metadata": {},
     "output_type": "execute_result"
    }
   ],
   "source": [
    "torch.cuda.memory_allocated()"
   ]
  },
  {
   "cell_type": "code",
   "execution_count": 7,
   "id": "9336fe0d-3cea-4e60-94c2-f9e5cf35d57b",
   "metadata": {},
   "outputs": [],
   "source": [
    "#using CPU"
   ]
  },
  {
   "cell_type": "code",
   "execution_count": 8,
   "id": "ac11c4f2-c04b-4b86-ae94-2aaa277c42cf",
   "metadata": {},
   "outputs": [],
   "source": [
    "var1=torch.FloatTensor([1.0,2.0,3.0])"
   ]
  },
  {
   "cell_type": "code",
   "execution_count": 9,
   "id": "25265616-2577-4cb8-a667-51af4d60e487",
   "metadata": {},
   "outputs": [
    {
     "data": {
      "text/plain": [
       "tensor([1., 2., 3.])"
      ]
     },
     "execution_count": 9,
     "metadata": {},
     "output_type": "execute_result"
    }
   ],
   "source": [
    "var1"
   ]
  },
  {
   "cell_type": "code",
   "execution_count": 10,
   "id": "1db170ed-97d9-4ccd-b356-28934921bdb7",
   "metadata": {},
   "outputs": [
    {
     "data": {
      "text/plain": [
       "device(type='cpu')"
      ]
     },
     "execution_count": 10,
     "metadata": {},
     "output_type": "execute_result"
    }
   ],
   "source": [
    "var1.device"
   ]
  },
  {
   "cell_type": "code",
   "execution_count": 11,
   "id": "fc15daf0-a31f-4151-b78b-0ecf11413af4",
   "metadata": {},
   "outputs": [],
   "source": [
    "#now going to use gpu"
   ]
  },
  {
   "cell_type": "code",
   "execution_count": 12,
   "id": "cbe5d14f-a67b-4b78-a16b-07d1efc08dce",
   "metadata": {},
   "outputs": [],
   "source": [
    "var1=torch.FloatTensor([1.0,2.0,3.0]).cuda()"
   ]
  },
  {
   "cell_type": "code",
   "execution_count": 13,
   "id": "85d35b1e-5421-4202-9644-6c7d117d1af2",
   "metadata": {},
   "outputs": [
    {
     "data": {
      "text/plain": [
       "tensor([1., 2., 3.], device='cuda:0')"
      ]
     },
     "execution_count": 13,
     "metadata": {},
     "output_type": "execute_result"
    }
   ],
   "source": [
    "var1"
   ]
  },
  {
   "cell_type": "code",
   "execution_count": 14,
   "id": "29e3142b-214f-4a73-9b0e-737f1695a9c9",
   "metadata": {},
   "outputs": [
    {
     "data": {
      "text/plain": [
       "device(type='cuda', index=0)"
      ]
     },
     "execution_count": 14,
     "metadata": {},
     "output_type": "execute_result"
    }
   ],
   "source": [
    "var1.device"
   ]
  },
  {
   "cell_type": "code",
   "execution_count": null,
   "id": "e533558a-9888-41de-a1e7-375586a098d1",
   "metadata": {},
   "outputs": [],
   "source": []
  },
  {
   "cell_type": "markdown",
   "id": "666600ab-24ea-479d-8937-a58153dd26eb",
   "metadata": {},
   "source": [
    "## Creating an ANN using Pytorch"
   ]
  },
  {
   "cell_type": "code",
   "execution_count": 15,
   "id": "c27ded7c-4511-4291-9fda-81549f90cdd4",
   "metadata": {},
   "outputs": [
    {
     "data": {
      "text/html": [
       "<div>\n",
       "<style scoped>\n",
       "    .dataframe tbody tr th:only-of-type {\n",
       "        vertical-align: middle;\n",
       "    }\n",
       "\n",
       "    .dataframe tbody tr th {\n",
       "        vertical-align: top;\n",
       "    }\n",
       "\n",
       "    .dataframe thead th {\n",
       "        text-align: right;\n",
       "    }\n",
       "</style>\n",
       "<table border=\"1\" class=\"dataframe\">\n",
       "  <thead>\n",
       "    <tr style=\"text-align: right;\">\n",
       "      <th></th>\n",
       "      <th>Pregnancies</th>\n",
       "      <th>Glucose</th>\n",
       "      <th>BloodPressure</th>\n",
       "      <th>SkinThickness</th>\n",
       "      <th>Insulin</th>\n",
       "      <th>BMI</th>\n",
       "      <th>DiabetesPedigreeFunction</th>\n",
       "      <th>Age</th>\n",
       "      <th>Outcome</th>\n",
       "    </tr>\n",
       "  </thead>\n",
       "  <tbody>\n",
       "    <tr>\n",
       "      <th>0</th>\n",
       "      <td>6</td>\n",
       "      <td>148</td>\n",
       "      <td>72</td>\n",
       "      <td>35</td>\n",
       "      <td>0</td>\n",
       "      <td>33.6</td>\n",
       "      <td>0.627</td>\n",
       "      <td>50</td>\n",
       "      <td>1</td>\n",
       "    </tr>\n",
       "    <tr>\n",
       "      <th>1</th>\n",
       "      <td>1</td>\n",
       "      <td>85</td>\n",
       "      <td>66</td>\n",
       "      <td>29</td>\n",
       "      <td>0</td>\n",
       "      <td>26.6</td>\n",
       "      <td>0.351</td>\n",
       "      <td>31</td>\n",
       "      <td>0</td>\n",
       "    </tr>\n",
       "    <tr>\n",
       "      <th>2</th>\n",
       "      <td>8</td>\n",
       "      <td>183</td>\n",
       "      <td>64</td>\n",
       "      <td>0</td>\n",
       "      <td>0</td>\n",
       "      <td>23.3</td>\n",
       "      <td>0.672</td>\n",
       "      <td>32</td>\n",
       "      <td>1</td>\n",
       "    </tr>\n",
       "    <tr>\n",
       "      <th>3</th>\n",
       "      <td>1</td>\n",
       "      <td>89</td>\n",
       "      <td>66</td>\n",
       "      <td>23</td>\n",
       "      <td>94</td>\n",
       "      <td>28.1</td>\n",
       "      <td>0.167</td>\n",
       "      <td>21</td>\n",
       "      <td>0</td>\n",
       "    </tr>\n",
       "    <tr>\n",
       "      <th>4</th>\n",
       "      <td>0</td>\n",
       "      <td>137</td>\n",
       "      <td>40</td>\n",
       "      <td>35</td>\n",
       "      <td>168</td>\n",
       "      <td>43.1</td>\n",
       "      <td>2.288</td>\n",
       "      <td>33</td>\n",
       "      <td>1</td>\n",
       "    </tr>\n",
       "  </tbody>\n",
       "</table>\n",
       "</div>"
      ],
      "text/plain": [
       "   Pregnancies  Glucose  BloodPressure  SkinThickness  Insulin   BMI  \\\n",
       "0            6      148             72             35        0  33.6   \n",
       "1            1       85             66             29        0  26.6   \n",
       "2            8      183             64              0        0  23.3   \n",
       "3            1       89             66             23       94  28.1   \n",
       "4            0      137             40             35      168  43.1   \n",
       "\n",
       "   DiabetesPedigreeFunction  Age  Outcome  \n",
       "0                     0.627   50        1  \n",
       "1                     0.351   31        0  \n",
       "2                     0.672   32        1  \n",
       "3                     0.167   21        0  \n",
       "4                     2.288   33        1  "
      ]
     },
     "execution_count": 15,
     "metadata": {},
     "output_type": "execute_result"
    }
   ],
   "source": [
    "import pandas as pd\n",
    "df = pd.read_csv('./diabetes.csv')\n",
    "df.head()"
   ]
  },
  {
   "cell_type": "code",
   "execution_count": null,
   "id": "d668afc6-2d4d-4039-86e4-6f773bb46904",
   "metadata": {},
   "outputs": [],
   "source": [
    "df.isnull().sum()"
   ]
  },
  {
   "cell_type": "code",
   "execution_count": null,
   "id": "a0ee80d9-2eab-4583-845f-8318145222bd",
   "metadata": {},
   "outputs": [],
   "source": [
    "import seaborn as sns"
   ]
  },
  {
   "cell_type": "code",
   "execution_count": null,
   "id": "0181683b-6712-46d3-82e1-6ef63d9c476c",
   "metadata": {},
   "outputs": [],
   "source": [
    "sns.pairplot(df,hue=\"Outcome\")"
   ]
  },
  {
   "cell_type": "code",
   "execution_count": 16,
   "id": "c36d91e5-56b0-4fe2-87f9-78c73ee1f75d",
   "metadata": {},
   "outputs": [],
   "source": [
    "X= df.drop(\"Outcome\",axis=1).values   #values makes numpy array\n",
    "y=df['Outcome'].values "
   ]
  },
  {
   "cell_type": "code",
   "execution_count": 17,
   "id": "efc456a9-ce5b-465d-87db-c1a453ddcf5c",
   "metadata": {},
   "outputs": [],
   "source": [
    "from sklearn.model_selection import train_test_split\n",
    "\n",
    "X_train,X_test,y_train,y_test = train_test_split(X,y,test_size=0.2,random_state=0)"
   ]
  },
  {
   "cell_type": "markdown",
   "id": "a7b8d99c-2474-4868-a638-b20d6bb7e227",
   "metadata": {},
   "source": [
    "________________________"
   ]
  },
  {
   "cell_type": "markdown",
   "id": "0fdeae01-d7d1-437d-bb19-a93ba7051e3f",
   "metadata": {},
   "source": [
    "## Pytorch"
   ]
  },
  {
   "cell_type": "code",
   "execution_count": 18,
   "id": "a11c009c-7d97-455f-888b-d8e57fe0ec5c",
   "metadata": {},
   "outputs": [],
   "source": [
    "#Libraries from pytorch\n",
    "import torch\n",
    "import torch.nn as nn\n",
    "import torch.nn.functional as F"
   ]
  },
  {
   "cell_type": "code",
   "execution_count": 19,
   "id": "6473feaa-8c8b-4691-99fa-ed3a2dfa5572",
   "metadata": {},
   "outputs": [],
   "source": [
    "#### Creating Tensors  \n",
    "X_train = torch.FloatTensor(X_train).cuda() #independet features must be convert to float\n",
    "X_test = torch.FloatTensor(X_test).cuda()\n",
    "y_train = torch.LongTensor(y_train).cuda()\n",
    "y_test = torch.LongTensor(y_test).cuda()"
   ]
  },
  {
   "cell_type": "code",
   "execution_count": 20,
   "id": "fb6eda10-c0de-4c17-b5d9-e46a8c3228f9",
   "metadata": {},
   "outputs": [
    {
     "data": {
      "text/plain": [
       "device(type='cuda', index=0)"
      ]
     },
     "execution_count": 20,
     "metadata": {},
     "output_type": "execute_result"
    }
   ],
   "source": [
    "X_train.device"
   ]
  },
  {
   "cell_type": "code",
   "execution_count": null,
   "id": "ee18af15-be3f-4ade-8332-7c34c7be943d",
   "metadata": {},
   "outputs": [],
   "source": [
    "df.shape"
   ]
  },
  {
   "cell_type": "code",
   "execution_count": 22,
   "id": "dd028612-20a0-4d2d-aa30-97d8dc2e193a",
   "metadata": {},
   "outputs": [],
   "source": [
    "### Creating Model with Pytorch\n",
    "\n",
    "class ANN_Model(nn.Module):   \n",
    "    def __init__(self,input_features=8,hidden1=20,hidden2=20,out_features=2):\n",
    "        super().__init__()\n",
    "        self.f_connected1=nn.Linear(input_features,hidden1)\n",
    "        self.f_connected2=nn.Linear(hidden1,hidden2)\n",
    "        self.out=nn.Linear(hidden2,out_features)\n",
    "    def forward(self,x):\n",
    "        x=F.relu(self.f_connected1(x))\n",
    "        x=F.relu(self.f_connected2(x))\n",
    "        x=self.out(x)\n",
    "        return x"
   ]
  },
  {
   "cell_type": "code",
   "execution_count": 23,
   "id": "fade64bd-5c36-49c7-8952-fbb5e7fc631b",
   "metadata": {},
   "outputs": [],
   "source": [
    "#### instantiate my ANN_Model\n",
    "\n",
    "torch.manual_seed(20)\n",
    "model = ANN_Model()"
   ]
  },
  {
   "cell_type": "code",
   "execution_count": 24,
   "id": "b3b443de-d361-4212-9be3-d4d3b159b453",
   "metadata": {},
   "outputs": [
    {
     "data": {
      "text/plain": [
       "<bound method Module.parameters of ANN_Model(\n",
       "  (f_connected1): Linear(in_features=8, out_features=20, bias=True)\n",
       "  (f_connected2): Linear(in_features=20, out_features=20, bias=True)\n",
       "  (out): Linear(in_features=20, out_features=2, bias=True)\n",
       ")>"
      ]
     },
     "execution_count": 24,
     "metadata": {},
     "output_type": "execute_result"
    }
   ],
   "source": [
    "model.parameters"
   ]
  },
  {
   "cell_type": "code",
   "execution_count": 25,
   "id": "369a95a7-05e2-48c1-9f6b-39769f033f87",
   "metadata": {},
   "outputs": [
    {
     "name": "stdout",
     "output_type": "stream",
     "text": [
      "False\n",
      "False\n",
      "False\n",
      "False\n",
      "False\n",
      "False\n"
     ]
    }
   ],
   "source": [
    "for i in model.parameters():\n",
    "    print(i.is_cuda)"
   ]
  },
  {
   "cell_type": "code",
   "execution_count": 26,
   "id": "e6a1193c-a631-426d-abf1-18380087ac33",
   "metadata": {},
   "outputs": [],
   "source": [
    "model = model.cuda()"
   ]
  },
  {
   "cell_type": "code",
   "execution_count": 27,
   "id": "3d9ff9ea-2afb-4de3-910b-9fd765eb2f18",
   "metadata": {},
   "outputs": [
    {
     "name": "stdout",
     "output_type": "stream",
     "text": [
      "True\n",
      "True\n",
      "True\n",
      "True\n",
      "True\n",
      "True\n"
     ]
    }
   ],
   "source": [
    "for i in model.parameters():\n",
    "    print(i.is_cuda)"
   ]
  },
  {
   "cell_type": "code",
   "execution_count": null,
   "id": "0493e331-c413-4da4-a729-275ed1a96053",
   "metadata": {},
   "outputs": [],
   "source": [
    "model.parameters()"
   ]
  },
  {
   "cell_type": "code",
   "execution_count": 29,
   "id": "bbcd3a4b-6f0f-47e0-a626-33609c792607",
   "metadata": {},
   "outputs": [],
   "source": [
    "#### Backward Propagation - Define the loss function, define optimizer\n",
    "loss_function=nn.CrossEntropyLoss()\n",
    "optimizer=torch.optim.Adam(model.parameters(),lr=0.01)"
   ]
  },
  {
   "cell_type": "code",
   "execution_count": 30,
   "id": "14783453-e10a-44fb-8c6d-35e40c3d62ea",
   "metadata": {},
   "outputs": [
    {
     "name": "stdout",
     "output_type": "stream",
     "text": [
      "Epoch number is: 1 and the loss is: 3.457210063934326\n",
      "Epoch number is: 11 and the loss is: 0.8019209504127502\n",
      "Epoch number is: 21 and the loss is: 0.609032154083252\n",
      "Epoch number is: 31 and the loss is: 0.5917770862579346\n",
      "Epoch number is: 41 and the loss is: 0.5679707527160645\n",
      "Epoch number is: 51 and the loss is: 0.5529042482376099\n",
      "Epoch number is: 61 and the loss is: 0.5410094261169434\n",
      "Epoch number is: 71 and the loss is: 0.5310390591621399\n",
      "Epoch number is: 81 and the loss is: 0.5220361351966858\n",
      "Epoch number is: 91 and the loss is: 0.5135972499847412\n",
      "Epoch number is: 101 and the loss is: 0.5061254501342773\n",
      "Epoch number is: 111 and the loss is: 0.4983409643173218\n",
      "Epoch number is: 121 and the loss is: 0.4960552752017975\n",
      "Epoch number is: 131 and the loss is: 0.4828636944293976\n",
      "Epoch number is: 141 and the loss is: 0.4756036400794983\n",
      "Epoch number is: 151 and the loss is: 0.47992271184921265\n",
      "Epoch number is: 161 and the loss is: 0.4793107807636261\n",
      "Epoch number is: 171 and the loss is: 0.4650031328201294\n",
      "Epoch number is: 181 and the loss is: 0.4582156240940094\n",
      "Epoch number is: 191 and the loss is: 0.4527052044868469\n",
      "Epoch number is: 201 and the loss is: 0.4457980990409851\n",
      "Epoch number is: 211 and the loss is: 0.4402461349964142\n",
      "Epoch number is: 221 and the loss is: 0.436570405960083\n",
      "Epoch number is: 231 and the loss is: 0.43089309334754944\n",
      "Epoch number is: 241 and the loss is: 0.42630577087402344\n",
      "Epoch number is: 251 and the loss is: 0.4212593734264374\n",
      "Epoch number is: 261 and the loss is: 0.46443480253219604\n",
      "Epoch number is: 271 and the loss is: 0.44113507866859436\n",
      "Epoch number is: 281 and the loss is: 0.42062267661094666\n",
      "Epoch number is: 291 and the loss is: 0.41312360763549805\n",
      "Epoch number is: 301 and the loss is: 0.4038238823413849\n",
      "Epoch number is: 311 and the loss is: 0.3999263644218445\n",
      "Epoch number is: 321 and the loss is: 0.4158216714859009\n",
      "Epoch number is: 331 and the loss is: 0.39121776819229126\n",
      "Epoch number is: 341 and the loss is: 0.38679611682891846\n",
      "Epoch number is: 351 and the loss is: 0.4477679133415222\n",
      "Epoch number is: 361 and the loss is: 0.4431844651699066\n",
      "Epoch number is: 371 and the loss is: 0.391814649105072\n",
      "Epoch number is: 381 and the loss is: 0.3783990144729614\n",
      "Epoch number is: 391 and the loss is: 0.37469053268432617\n",
      "Epoch number is: 401 and the loss is: 0.3731100559234619\n",
      "Epoch number is: 411 and the loss is: 0.36959734559059143\n",
      "Epoch number is: 421 and the loss is: 0.38255566358566284\n",
      "Epoch number is: 431 and the loss is: 0.36557385325431824\n",
      "Epoch number is: 441 and the loss is: 0.3715794086456299\n",
      "Epoch number is: 451 and the loss is: 0.36916422843933105\n",
      "Epoch number is: 461 and the loss is: 0.3611627221107483\n",
      "Epoch number is: 471 and the loss is: 0.3559705317020416\n",
      "Epoch number is: 481 and the loss is: 0.37124401330947876\n",
      "Epoch number is: 491 and the loss is: 0.3781720995903015\n"
     ]
    }
   ],
   "source": [
    "epochs = 500\n",
    "final_losses = []\n",
    "\n",
    "for i in range(epochs):\n",
    "    i=i+1\n",
    "    y_pred = model.forward(X_train)\n",
    "    loss=loss_function(y_pred,y_train)\n",
    "    final_losses.append(loss)\n",
    "    if i%10 ==1:\n",
    "        print(\"Epoch number is: {} and the loss is: {}\".format(i,loss.item()))\n",
    "    \n",
    "    optimizer.zero_grad()\n",
    "    loss.backward()\n",
    "    optimizer.step()\n",
    "    "
   ]
  },
  {
   "cell_type": "code",
   "execution_count": null,
   "id": "610a0c7f-cee6-4d79-ac92-0d91acf49201",
   "metadata": {},
   "outputs": [],
   "source": [
    "#### plot he loss function\n",
    "import matplotlib.pyplot as plt\n",
    "%matplotlib inline"
   ]
  },
  {
   "cell_type": "code",
   "execution_count": null,
   "id": "534badec-9c95-4a76-a933-b7bbbfb7f52b",
   "metadata": {},
   "outputs": [],
   "source": [
    "final_losses[0]"
   ]
  },
  {
   "cell_type": "code",
   "execution_count": null,
   "id": "bbc2c36e-fb61-4325-8c02-11445f43d354",
   "metadata": {},
   "outputs": [],
   "source": [
    "fi_los = [fl.item() for fl in final_losses ]\n",
    "plt.plot(range(epochs),fi_los)\n",
    "plt.ylabel('Loss')\n",
    "plt.xlabel('Epoch')"
   ]
  },
  {
   "cell_type": "code",
   "execution_count": null,
   "id": "bdca7215-4ca0-4fbe-acc5-49565f61d1c5",
   "metadata": {},
   "outputs": [],
   "source": [
    "#### Prediction in X_test data\n",
    "predictions =[]\n",
    "\n",
    "with torch.no_grad():\n",
    "    for i,data in enumerate(X_test):\n",
    "        y_pred=model(data)\n",
    "        predictions.append(y_pred.argmax().item())\n",
    "        print(y_pred.argmax().item())"
   ]
  },
  {
   "cell_type": "code",
   "execution_count": null,
   "id": "55059728-e6be-4a27-b60b-ac1c4b2f2ac1",
   "metadata": {},
   "outputs": [],
   "source": [
    "from sklearn.metrics import confusion_matrix\n",
    "cm =confusion_matrix(y_test,predictions)\n",
    "cm"
   ]
  },
  {
   "cell_type": "code",
   "execution_count": null,
   "id": "a1f29c65-46a9-4be7-ae68-84bc9761dc15",
   "metadata": {},
   "outputs": [],
   "source": [
    "plt.figure(figsize=(10,6))\n",
    "sns.heatmap(cm,annot=True)\n",
    "plt.xlabel('Actual value')\n",
    "plt.ylabel('Predicted values')"
   ]
  },
  {
   "cell_type": "code",
   "execution_count": null,
   "id": "b771cc5e-9105-433e-81ab-a88786946b65",
   "metadata": {},
   "outputs": [],
   "source": [
    "from sklearn.metrics import accuracy_score\n",
    "score =accuracy_score(y_test,predictions)\n",
    "score"
   ]
  },
  {
   "cell_type": "code",
   "execution_count": null,
   "id": "08e433ee-ad29-4743-b77d-26acec0d6cfe",
   "metadata": {},
   "outputs": [],
   "source": [
    "### Save and Load the model\n",
    "torch.save(model,'diabetes.pt')"
   ]
  },
  {
   "cell_type": "code",
   "execution_count": null,
   "id": "dcaa1320-461c-419d-870f-85ac1e983442",
   "metadata": {},
   "outputs": [],
   "source": [
    "model = torch.load(\"./diabetes.pt\")"
   ]
  },
  {
   "cell_type": "code",
   "execution_count": null,
   "id": "c94e33b4-3e3b-42ce-9594-0f9059686c97",
   "metadata": {},
   "outputs": [],
   "source": [
    "model.eval()"
   ]
  }
 ],
 "metadata": {
  "kernelspec": {
   "display_name": "Python 3",
   "language": "python",
   "name": "python3"
  },
  "language_info": {
   "codemirror_mode": {
    "name": "ipython",
    "version": 3
   },
   "file_extension": ".py",
   "mimetype": "text/x-python",
   "name": "python",
   "nbconvert_exporter": "python",
   "pygments_lexer": "ipython3",
   "version": "3.7.10"
  }
 },
 "nbformat": 4,
 "nbformat_minor": 5
}
